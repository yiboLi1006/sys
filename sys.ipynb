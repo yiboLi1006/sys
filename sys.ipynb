{
 "cells": [
  {
   "cell_type": "markdown",
   "source": [
    "# sys模块\n",
    "**sys 模块是与 Python 解释器交互的一个接口**\n",
    "**该模块提供对解释器使用或维护的一些变量的访问和获取**\n",
    "**它提供了许多函数和变量来处理 Python 运行时环境的不同部分**"
   ],
   "metadata": {
    "collapsed": false,
    "pycharm": {
     "name": "#%% md\n"
    }
   }
  },
  {
   "cell_type": "code",
   "execution_count": 134,
   "outputs": [],
   "source": [
    "import sys"
   ],
   "metadata": {
    "collapsed": false,
    "pycharm": {
     "name": "#%%\n"
    }
   }
  },
  {
   "cell_type": "markdown",
   "source": [
    "## sys.argv\n",
    " 实现从程序的外部向程序传递参数\n",
    " sys.argv 获取运行python文件时的命令行参数，返回一个列表\n",
    " 用sys.argv[1:]可以获取到所有的参数，并且输出到一个列表里面。"
   ],
   "metadata": {
    "collapsed": false,
    "pycharm": {
     "name": "#%% md\n"
    }
   }
  },
  {
   "cell_type": "code",
   "execution_count": 135,
   "outputs": [
    {
     "name": "stdout",
     "output_type": "stream",
     "text": [
      "argv_0:   D:\\Anaconda\\lib\\site-packages\\ipykernel_launcher.py\n",
      "\n",
      "argv_1:   -f\n",
      "\n",
      "argv_2:   C:\\Users\\LiYibo\\AppData\\Roaming\\jupyter\\runtime\\kernel-70e4eac6-cfab-47dc-b698-6566bfebcacd.json\n",
      "\n"
     ]
    }
   ],
   "source": [
    "for i in range(0,len(sys.argv)):\n",
    "    #print(sys.argv[i],'\\n')\n",
    "    print(\"{}{}{}{}\".format('argv_'+str(i)+':','   ',sys.argv[i],'\\n'))"
   ],
   "metadata": {
    "collapsed": false,
    "pycharm": {
     "name": "#%%\n"
    }
   }
  },
  {
   "cell_type": "markdown",
   "source": [
    "## sys.path\n",
    " 获取指定模块搜索路径的字符串集合, 返回一个列表\n",
    " 配合使用append或者insert添加路径"
   ],
   "metadata": {
    "collapsed": false,
    "pycharm": {
     "name": "#%% md\n"
    }
   }
  },
  {
   "cell_type": "code",
   "execution_count": 136,
   "outputs": [
    {
     "name": "stdout",
     "output_type": "stream",
     "text": [
      "['D:\\\\Pycharm Professional\\\\PyCharm 2022.1.1\\\\plugins\\\\python\\\\helpers-pro\\\\jupyter_debug', 'D:\\\\Pycharm Professional\\\\PyCharm 2022.1.1\\\\plugins\\\\python\\\\helpers\\\\pydev', 'C:\\\\Users\\\\LiYibo', 'D:\\\\Anaconda\\\\python37.zip', 'D:\\\\Anaconda\\\\DLLs', 'D:\\\\Anaconda\\\\lib', 'D:\\\\Anaconda', '', 'D:\\\\Anaconda\\\\lib\\\\site-packages', 'D:\\\\Anaconda\\\\lib\\\\site-packages\\\\win32', 'D:\\\\Anaconda\\\\lib\\\\site-packages\\\\win32\\\\lib', 'D:\\\\Anaconda\\\\lib\\\\site-packages\\\\Pythonwin', 'D:\\\\Anaconda\\\\lib\\\\site-packages\\\\IPython\\\\extensions', 'C:\\\\Users\\\\LiYibo\\\\.ipython']\n"
     ]
    },
    {
     "data": {
      "text/plain": "'\\n添加路径\\nsys.path.append(\"[文件路径]\")\\n'"
     },
     "execution_count": 136,
     "metadata": {},
     "output_type": "execute_result"
    }
   ],
   "source": [
    "print(sys.path)\n",
    "'''\n",
    "添加路径\n",
    "sys.path.append(\"[文件路径]\")\n",
    "'''"
   ],
   "metadata": {
    "collapsed": false,
    "pycharm": {
     "name": "#%%\n"
    }
   }
  },
  {
   "cell_type": "markdown",
   "source": [
    "## sys.exit(num)\n",
    " 退出程序, 正常退出时 sys.exit(0) , 其他为异常退出\n",
    " 一般情况下，运行到主程序尾部解释器将正常退出, 若中途退出, 可调用 sys.exit"
   ],
   "metadata": {
    "collapsed": false,
    "pycharm": {
     "name": "#%% md\n"
    }
   }
  },
  {
   "cell_type": "markdown",
   "source": [
    "## sys.version\n",
    " 获取 Python 解释器版本信息"
   ],
   "metadata": {
    "collapsed": false,
    "pycharm": {
     "name": "#%% md\n"
    }
   }
  },
  {
   "cell_type": "code",
   "execution_count": 137,
   "outputs": [
    {
     "data": {
      "text/plain": "'3.7.13 (default, Mar 28 2022, 08:03:21) [MSC v.1916 64 bit (AMD64)]'"
     },
     "execution_count": 137,
     "metadata": {},
     "output_type": "execute_result"
    }
   ],
   "source": [
    "sys.version"
   ],
   "metadata": {
    "collapsed": false,
    "pycharm": {
     "name": "#%%\n"
    }
   }
  },
  {
   "cell_type": "markdown",
   "source": [
    "## sys.platform\n",
    " 返回操作系统平台名称"
   ],
   "metadata": {
    "collapsed": false,
    "pycharm": {
     "name": "#%% md\n"
    }
   }
  },
  {
   "cell_type": "markdown",
   "source": [
    "sys.platform"
   ],
   "metadata": {
    "collapsed": false,
    "pycharm": {
     "name": "#%% md\n"
    }
   }
  },
  {
   "cell_type": "markdown",
   "source": [
    " ## sys.maxsize\n",
    "  获取最大int值"
   ],
   "metadata": {
    "collapsed": false,
    "pycharm": {
     "name": "#%% md\n"
    }
   }
  },
  {
   "cell_type": "code",
   "execution_count": 138,
   "outputs": [
    {
     "data": {
      "text/plain": "9223372036854775807"
     },
     "execution_count": 138,
     "metadata": {},
     "output_type": "execute_result"
    }
   ],
   "source": [
    "sys.maxsize"
   ],
   "metadata": {
    "collapsed": false,
    "pycharm": {
     "name": "#%%\n"
    }
   }
  },
  {
   "cell_type": "markdown",
   "source": [
    "## sys.getdefaultencoding()\n",
    " 获取解释器默认编码"
   ],
   "metadata": {
    "collapsed": false,
    "pycharm": {
     "name": "#%% md\n"
    }
   }
  },
  {
   "cell_type": "code",
   "execution_count": 139,
   "outputs": [
    {
     "data": {
      "text/plain": "'utf-8'"
     },
     "execution_count": 139,
     "metadata": {},
     "output_type": "execute_result"
    }
   ],
   "source": [
    "sys.getdefaultencoding()"
   ],
   "metadata": {
    "collapsed": false,
    "pycharm": {
     "name": "#%%\n"
    }
   }
  },
  {
   "cell_type": "markdown",
   "source": [
    "## sys.getfilesystemencoding()\n",
    " 获取内存数据存到文件里的默认编码"
   ],
   "metadata": {
    "collapsed": false,
    "pycharm": {
     "name": "#%% md\n"
    }
   }
  },
  {
   "cell_type": "code",
   "execution_count": 140,
   "outputs": [
    {
     "data": {
      "text/plain": "'utf-8'"
     },
     "execution_count": 140,
     "metadata": {},
     "output_type": "execute_result"
    }
   ],
   "source": [
    "sys.getfilesystemencoding()"
   ],
   "metadata": {
    "collapsed": false,
    "pycharm": {
     "name": "#%%\n"
    }
   }
  },
  {
   "cell_type": "markdown",
   "source": [
    "## sys.getrecursionlimit()\n",
    " 获取最大递归层数"
   ],
   "metadata": {
    "collapsed": false,
    "pycharm": {
     "name": "#%% md\n"
    }
   }
  },
  {
   "cell_type": "code",
   "execution_count": 141,
   "outputs": [
    {
     "data": {
      "text/plain": "520"
     },
     "execution_count": 141,
     "metadata": {},
     "output_type": "execute_result"
    }
   ],
   "source": [
    "sys.getrecursionlimit( )"
   ],
   "metadata": {
    "collapsed": false,
    "pycharm": {
     "name": "#%%\n"
    }
   }
  },
  {
   "cell_type": "markdown",
   "source": [
    "## sys.setrecursionlimit(arg)\n",
    " 设置最大递归层数为arg"
   ],
   "metadata": {
    "collapsed": false,
    "pycharm": {
     "name": "#%% md\n"
    }
   }
  },
  {
   "cell_type": "code",
   "execution_count": 142,
   "outputs": [],
   "source": [
    "sys.setrecursionlimit(520)  # 设置最大递归层数为520层"
   ],
   "metadata": {
    "collapsed": false,
    "pycharm": {
     "name": "#%%\n"
    }
   }
  },
  {
   "cell_type": "markdown",
   "source": [
    "## sys.stdin.readline()\n",
    "标准输入\n",
    "默认输入格式为字符串，若为int，float类型则需强制转换\n",
    "sys.stdin.readline()会将标准输入全部获取，包括末尾的'\\n'，而input()会把‘\\n'忽略\n",
    "附加sys.stdin.readline().strip()以消除输入首尾的空格、\\n、\\t"
   ],
   "metadata": {
    "collapsed": false,
    "pycharm": {
     "name": "#%% md\n"
    }
   }
  },
  {
   "cell_type": "code",
   "execution_count": 143,
   "outputs": [
    {
     "name": "stdout",
     "output_type": "stream",
     "text": [
      "Plase input your name: \n",
      "Hello  \n"
     ]
    }
   ],
   "source": [
    "print('Plase input your name: ')\n",
    "name = sys.stdin.readline()\n",
    "print('Hello ', name)"
   ],
   "metadata": {
    "collapsed": false,
    "pycharm": {
     "name": "#%%\n"
    }
   }
  },
  {
   "cell_type": "markdown",
   "source": [
    "## sys.stdout.write(\"arg\")\n",
    "标准输出 (相比 print 可更好的控制输出)\n",
    "与print不同，sys.stdout.write在显示一个文本后不会切换到新行"
   ],
   "metadata": {
    "collapsed": false,
    "pycharm": {
     "name": "#%% md\n"
    }
   }
  },
  {
   "cell_type": "code",
   "execution_count": 144,
   "outputs": [
    {
     "name": "stdout",
     "output_type": "stream",
     "text": [
      "geeksforgeeks\n",
      "\n",
      "——————————————————————————\n",
      "\n",
      "geeks\n",
      "for\n",
      "geeks\n"
     ]
    }
   ],
   "source": [
    "arr = ['geeks', 'for', 'geeks']\n",
    "\n",
    "# printing everything in the same line\n",
    "for i in arr:\n",
    "    sys.stdout.write(i)\n",
    "print(\"\\n\\n——————————————————————————\\n\")\n",
    "# printing everything in a new line\n",
    "for j in arr:\n",
    "    sys.stdout.write(j+'\\n')"
   ],
   "metadata": {
    "collapsed": false,
    "pycharm": {
     "name": "#%%\n"
    }
   }
  }
 ],
 "metadata": {
  "kernelspec": {
   "display_name": "Python 3",
   "language": "python",
   "name": "python3"
  },
  "language_info": {
   "codemirror_mode": {
    "name": "ipython",
    "version": 2
   },
   "file_extension": ".py",
   "mimetype": "text/x-python",
   "name": "python",
   "nbconvert_exporter": "python",
   "pygments_lexer": "ipython2",
   "version": "2.7.6"
  }
 },
 "nbformat": 4,
 "nbformat_minor": 0
}